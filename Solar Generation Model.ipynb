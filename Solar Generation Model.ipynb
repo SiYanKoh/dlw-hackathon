{
 "cells": [
  {
   "cell_type": "code",
   "execution_count": 45,
   "id": "803a797e",
   "metadata": {},
   "outputs": [
    {
     "name": "stdout",
     "output_type": "stream",
     "text": [
      "2020-06-14T00:00:00+00:00\n"
     ]
    }
   ],
   "source": [
    "import arrow\n",
    "import requests\n",
    "\n",
    "# Using Storm Glass API to extract weather data\n",
    "start = arrow.get('2020-06-14')\n",
    "end = arrow.get('2020-06-18')\n",
    "print(start)\n",
    "\n",
    "response = requests.get(\n",
    "  'https://api.stormglass.io/v2/weather/point',\n",
    "  params={\n",
    "    'lat': 19.9975,\n",
    "    'lng': 73.7898,\n",
    "    'params': ','.join(['pressure','cloudCover','humidity','windSpeed']),\n",
    "    'start': start,\n",
    "    'end': end,\n",
    "    'source': 'noaa'\n",
    "  },\n",
    "  headers={\n",
    "    'Authorization': 'e87fddd8-4165-11ed-a3a1-0242ac130002-e87fde32-4165-11ed-a3a1-0242ac130002'\n",
    "  }\n",
    ")\n",
    "\n",
    "#Plant 1: 14.91719, 78.21319\n",
    "#Plant 2: 19.9975, 73.7898\n",
    "\n",
    "# Do something with response data.\n",
    "json_data = response.json()"
   ]
  },
  {
   "cell_type": "code",
   "execution_count": 46,
   "id": "d655e2f9",
   "metadata": {},
   "outputs": [
    {
     "name": "stdout",
     "output_type": "stream",
     "text": [
      "{'hours': [{'cloudCover': {'noaa': 100.0}, 'humidity': {'noaa': 88.6}, 'pressure': {'noaa': 1002.22}, 'time': '2020-06-14T00:00:00+00:00', 'windSpeed': {'noaa': 3.43}}, {'cloudCover': {'noaa': 100.0}, 'humidity': {'noaa': 87.83}, 'pressure': {'noaa': 1002.81}, 'time': '2020-06-14T01:00:00+00:00', 'windSpeed': {'noaa': 3.3}}, {'cloudCover': {'noaa': 100.0}, 'humidity': {'noaa': 87.07}, 'pressure': {'noaa': 1003.39}, 'time': '2020-06-14T02:00:00+00:00', 'windSpeed': {'noaa': 3.17}}, {'cloudCover': {'noaa': 100.0}, 'humidity': {'noaa': 86.3}, 'pressure': {'noaa': 1003.98}, 'time': '2020-06-14T03:00:00+00:00', 'windSpeed': {'noaa': 3.04}}, {'cloudCover': {'noaa': 100.0}, 'humidity': {'noaa': 84.33}, 'pressure': {'noaa': 1004.02}, 'time': '2020-06-14T04:00:00+00:00', 'windSpeed': {'noaa': 3.08}}, {'cloudCover': {'noaa': 100.0}, 'humidity': {'noaa': 82.37}, 'pressure': {'noaa': 1004.07}, 'time': '2020-06-14T05:00:00+00:00', 'windSpeed': {'noaa': 3.11}}, {'cloudCover': {'noaa': 100.0}, 'humidity': {'noaa': 80.4}, 'pressure': {'noaa': 1004.11}, 'time': '2020-06-14T06:00:00+00:00', 'windSpeed': {'noaa': 3.15}}, {'cloudCover': {'noaa': 99.0}, 'humidity': {'noaa': 78.17}, 'pressure': {'noaa': 1003.32}, 'time': '2020-06-14T07:00:00+00:00', 'windSpeed': {'noaa': 3.11}}, {'cloudCover': {'noaa': 98.0}, 'humidity': {'noaa': 75.93}, 'pressure': {'noaa': 1002.54}, 'time': '2020-06-14T08:00:00+00:00', 'windSpeed': {'noaa': 3.06}}, {'cloudCover': {'noaa': 97.0}, 'humidity': {'noaa': 73.7}, 'pressure': {'noaa': 1001.76}, 'time': '2020-06-14T09:00:00+00:00', 'windSpeed': {'noaa': 3.02}}, {'cloudCover': {'noaa': 96.0}, 'humidity': {'noaa': 72.73}, 'pressure': {'noaa': 1001.39}, 'time': '2020-06-14T10:00:00+00:00', 'windSpeed': {'noaa': 3.09}}, {'cloudCover': {'noaa': 95.0}, 'humidity': {'noaa': 71.77}, 'pressure': {'noaa': 1001.02}, 'time': '2020-06-14T11:00:00+00:00', 'windSpeed': {'noaa': 3.16}}, {'cloudCover': {'noaa': 94.0}, 'humidity': {'noaa': 70.8}, 'pressure': {'noaa': 1000.65}, 'time': '2020-06-14T12:00:00+00:00', 'windSpeed': {'noaa': 3.23}}, {'cloudCover': {'noaa': 95.0}, 'humidity': {'noaa': 73.8}, 'pressure': {'noaa': 1001.52}, 'time': '2020-06-14T13:00:00+00:00', 'windSpeed': {'noaa': 3.43}}, {'cloudCover': {'noaa': 96.0}, 'humidity': {'noaa': 76.8}, 'pressure': {'noaa': 1002.39}, 'time': '2020-06-14T14:00:00+00:00', 'windSpeed': {'noaa': 3.62}}, {'cloudCover': {'noaa': 97.0}, 'humidity': {'noaa': 79.8}, 'pressure': {'noaa': 1003.26}, 'time': '2020-06-14T15:00:00+00:00', 'windSpeed': {'noaa': 3.82}}, {'cloudCover': {'noaa': 98.0}, 'humidity': {'noaa': 81.93}, 'pressure': {'noaa': 1003.45}, 'time': '2020-06-14T16:00:00+00:00', 'windSpeed': {'noaa': 4.43}}, {'cloudCover': {'noaa': 99.0}, 'humidity': {'noaa': 84.07}, 'pressure': {'noaa': 1003.64}, 'time': '2020-06-14T17:00:00+00:00', 'windSpeed': {'noaa': 5.05}}, {'cloudCover': {'noaa': 100.0}, 'humidity': {'noaa': 86.2}, 'pressure': {'noaa': 1003.82}, 'time': '2020-06-14T18:00:00+00:00', 'windSpeed': {'noaa': 5.66}}, {'cloudCover': {'noaa': 100.0}, 'humidity': {'noaa': 86.6}, 'pressure': {'noaa': 1003.25}, 'time': '2020-06-14T19:00:00+00:00', 'windSpeed': {'noaa': 5.43}}, {'cloudCover': {'noaa': 100.0}, 'humidity': {'noaa': 87.0}, 'pressure': {'noaa': 1002.67}, 'time': '2020-06-14T20:00:00+00:00', 'windSpeed': {'noaa': 5.2}}, {'cloudCover': {'noaa': 100.0}, 'humidity': {'noaa': 87.4}, 'pressure': {'noaa': 1002.09}, 'time': '2020-06-14T21:00:00+00:00', 'windSpeed': {'noaa': 4.97}}, {'cloudCover': {'noaa': 100.0}, 'humidity': {'noaa': 87.47}, 'pressure': {'noaa': 1001.88}, 'time': '2020-06-14T22:00:00+00:00', 'windSpeed': {'noaa': 4.84}}, {'cloudCover': {'noaa': 100.0}, 'humidity': {'noaa': 87.53}, 'pressure': {'noaa': 1001.66}, 'time': '2020-06-14T23:00:00+00:00', 'windSpeed': {'noaa': 4.71}}, {'cloudCover': {'noaa': 100.0}, 'humidity': {'noaa': 87.6}, 'pressure': {'noaa': 1001.44}, 'time': '2020-06-15T00:00:00+00:00', 'windSpeed': {'noaa': 4.58}}, {'cloudCover': {'noaa': 100.0}, 'humidity': {'noaa': 85.63}, 'pressure': {'noaa': 1002.17}, 'time': '2020-06-15T01:00:00+00:00', 'windSpeed': {'noaa': 4.87}}, {'cloudCover': {'noaa': 100.0}, 'humidity': {'noaa': 83.67}, 'pressure': {'noaa': 1002.9}, 'time': '2020-06-15T02:00:00+00:00', 'windSpeed': {'noaa': 5.17}}, {'cloudCover': {'noaa': 100.0}, 'humidity': {'noaa': 81.7}, 'pressure': {'noaa': 1003.63}, 'time': '2020-06-15T03:00:00+00:00', 'windSpeed': {'noaa': 5.46}}, {'cloudCover': {'noaa': 100.0}, 'humidity': {'noaa': 80.73}, 'pressure': {'noaa': 1003.78}, 'time': '2020-06-15T04:00:00+00:00', 'windSpeed': {'noaa': 5.43}}, {'cloudCover': {'noaa': 100.0}, 'humidity': {'noaa': 79.77}, 'pressure': {'noaa': 1003.93}, 'time': '2020-06-15T05:00:00+00:00', 'windSpeed': {'noaa': 5.39}}, {'cloudCover': {'noaa': 100.0}, 'humidity': {'noaa': 78.8}, 'pressure': {'noaa': 1004.08}, 'time': '2020-06-15T06:00:00+00:00', 'windSpeed': {'noaa': 5.36}}, {'cloudCover': {'noaa': 100.0}, 'humidity': {'noaa': 78.43}, 'pressure': {'noaa': 1003.4}, 'time': '2020-06-15T07:00:00+00:00', 'windSpeed': {'noaa': 5.38}}, {'cloudCover': {'noaa': 100.0}, 'humidity': {'noaa': 78.07}, 'pressure': {'noaa': 1002.73}, 'time': '2020-06-15T08:00:00+00:00', 'windSpeed': {'noaa': 5.4}}, {'cloudCover': {'noaa': 100.0}, 'humidity': {'noaa': 77.7}, 'pressure': {'noaa': 1002.05}, 'time': '2020-06-15T09:00:00+00:00', 'windSpeed': {'noaa': 5.42}}, {'cloudCover': {'noaa': 100.0}, 'humidity': {'noaa': 79.33}, 'pressure': {'noaa': 1001.64}, 'time': '2020-06-15T10:00:00+00:00', 'windSpeed': {'noaa': 5.66}}, {'cloudCover': {'noaa': 100.0}, 'humidity': {'noaa': 80.97}, 'pressure': {'noaa': 1001.22}, 'time': '2020-06-15T11:00:00+00:00', 'windSpeed': {'noaa': 5.91}}, {'cloudCover': {'noaa': 100.0}, 'humidity': {'noaa': 82.6}, 'pressure': {'noaa': 1000.8}, 'time': '2020-06-15T12:00:00+00:00', 'windSpeed': {'noaa': 6.15}}, {'cloudCover': {'noaa': 100.0}, 'humidity': {'noaa': 84.37}, 'pressure': {'noaa': 1001.61}, 'time': '2020-06-15T13:00:00+00:00', 'windSpeed': {'noaa': 5.85}}, {'cloudCover': {'noaa': 100.0}, 'humidity': {'noaa': 86.13}, 'pressure': {'noaa': 1002.43}, 'time': '2020-06-15T14:00:00+00:00', 'windSpeed': {'noaa': 5.55}}, {'cloudCover': {'noaa': 100.0}, 'humidity': {'noaa': 87.9}, 'pressure': {'noaa': 1003.25}, 'time': '2020-06-15T15:00:00+00:00', 'windSpeed': {'noaa': 5.25}}, {'cloudCover': {'noaa': 100.0}, 'humidity': {'noaa': 87.77}, 'pressure': {'noaa': 1003.27}, 'time': '2020-06-15T16:00:00+00:00', 'windSpeed': {'noaa': 4.6}}, {'cloudCover': {'noaa': 100.0}, 'humidity': {'noaa': 87.63}, 'pressure': {'noaa': 1003.29}, 'time': '2020-06-15T17:00:00+00:00', 'windSpeed': {'noaa': 3.96}}, {'cloudCover': {'noaa': 100.0}, 'humidity': {'noaa': 87.5}, 'pressure': {'noaa': 1003.31}, 'time': '2020-06-15T18:00:00+00:00', 'windSpeed': {'noaa': 3.31}}, {'cloudCover': {'noaa': 100.0}, 'humidity': {'noaa': 87.7}, 'pressure': {'noaa': 1002.69}, 'time': '2020-06-15T19:00:00+00:00', 'windSpeed': {'noaa': 2.88}}, {'cloudCover': {'noaa': 100.0}, 'humidity': {'noaa': 87.9}, 'pressure': {'noaa': 1002.07}, 'time': '2020-06-15T20:00:00+00:00', 'windSpeed': {'noaa': 2.46}}, {'cloudCover': {'noaa': 100.0}, 'humidity': {'noaa': 88.1}, 'pressure': {'noaa': 1001.45}, 'time': '2020-06-15T21:00:00+00:00', 'windSpeed': {'noaa': 2.03}}, {'cloudCover': {'noaa': 100.0}, 'humidity': {'noaa': 87.87}, 'pressure': {'noaa': 1001.37}, 'time': '2020-06-15T22:00:00+00:00', 'windSpeed': {'noaa': 2.78}}, {'cloudCover': {'noaa': 100.0}, 'humidity': {'noaa': 87.63}, 'pressure': {'noaa': 1001.3}, 'time': '2020-06-15T23:00:00+00:00', 'windSpeed': {'noaa': 3.52}}, {'cloudCover': {'noaa': 100.0}, 'humidity': {'noaa': 87.4}, 'pressure': {'noaa': 1001.22}, 'time': '2020-06-16T00:00:00+00:00', 'windSpeed': {'noaa': 4.27}}, {'cloudCover': {'noaa': 92.5}, 'humidity': {'noaa': 83.97}, 'pressure': {'noaa': 1001.89}, 'time': '2020-06-16T01:00:00+00:00', 'windSpeed': {'noaa': 4.26}}, {'cloudCover': {'noaa': 85.0}, 'humidity': {'noaa': 80.53}, 'pressure': {'noaa': 1002.55}, 'time': '2020-06-16T02:00:00+00:00', 'windSpeed': {'noaa': 4.25}}, {'cloudCover': {'noaa': 77.5}, 'humidity': {'noaa': 77.1}, 'pressure': {'noaa': 1003.22}, 'time': '2020-06-16T03:00:00+00:00', 'windSpeed': {'noaa': 4.24}}, {'cloudCover': {'noaa': 70.0}, 'humidity': {'noaa': 71.83}, 'pressure': {'noaa': 1003.34}, 'time': '2020-06-16T04:00:00+00:00', 'windSpeed': {'noaa': 4.17}}, {'cloudCover': {'noaa': 62.5}, 'humidity': {'noaa': 66.57}, 'pressure': {'noaa': 1003.45}, 'time': '2020-06-16T05:00:00+00:00', 'windSpeed': {'noaa': 4.11}}, {'cloudCover': {'noaa': 55.0}, 'humidity': {'noaa': 61.3}, 'pressure': {'noaa': 1003.57}, 'time': '2020-06-16T06:00:00+00:00', 'windSpeed': {'noaa': 4.04}}, {'cloudCover': {'noaa': 61.67}, 'humidity': {'noaa': 62.63}, 'pressure': {'noaa': 1002.86}, 'time': '2020-06-16T07:00:00+00:00', 'windSpeed': {'noaa': 4.88}}, {'cloudCover': {'noaa': 68.33}, 'humidity': {'noaa': 63.97}, 'pressure': {'noaa': 1002.15}, 'time': '2020-06-16T08:00:00+00:00', 'windSpeed': {'noaa': 5.71}}, {'cloudCover': {'noaa': 75.0}, 'humidity': {'noaa': 65.3}, 'pressure': {'noaa': 1001.43}, 'time': '2020-06-16T09:00:00+00:00', 'windSpeed': {'noaa': 6.55}}, {'cloudCover': {'noaa': 81.67}, 'humidity': {'noaa': 68.23}, 'pressure': {'noaa': 1001.28}, 'time': '2020-06-16T10:00:00+00:00', 'windSpeed': {'noaa': 6.81}}, {'cloudCover': {'noaa': 88.33}, 'humidity': {'noaa': 71.17}, 'pressure': {'noaa': 1001.12}, 'time': '2020-06-16T11:00:00+00:00', 'windSpeed': {'noaa': 7.06}}, {'cloudCover': {'noaa': 95.0}, 'humidity': {'noaa': 74.1}, 'pressure': {'noaa': 1000.96}, 'time': '2020-06-16T12:00:00+00:00', 'windSpeed': {'noaa': 7.32}}, {'cloudCover': {'noaa': 95.83}, 'humidity': {'noaa': 77.23}, 'pressure': {'noaa': 1001.71}, 'time': '2020-06-16T13:00:00+00:00', 'windSpeed': {'noaa': 7.25}}, {'cloudCover': {'noaa': 96.67}, 'humidity': {'noaa': 80.37}, 'pressure': {'noaa': 1002.47}, 'time': '2020-06-16T14:00:00+00:00', 'windSpeed': {'noaa': 7.17}}, {'cloudCover': {'noaa': 97.5}, 'humidity': {'noaa': 83.5}, 'pressure': {'noaa': 1003.22}, 'time': '2020-06-16T15:00:00+00:00', 'windSpeed': {'noaa': 7.1}}, {'cloudCover': {'noaa': 98.33}, 'humidity': {'noaa': 84.07}, 'pressure': {'noaa': 1003.4}, 'time': '2020-06-16T16:00:00+00:00', 'windSpeed': {'noaa': 6.59}}, {'cloudCover': {'noaa': 99.17}, 'humidity': {'noaa': 84.63}, 'pressure': {'noaa': 1003.57}, 'time': '2020-06-16T17:00:00+00:00', 'windSpeed': {'noaa': 6.08}}, {'cloudCover': {'noaa': 100.0}, 'humidity': {'noaa': 85.2}, 'pressure': {'noaa': 1003.75}, 'time': '2020-06-16T18:00:00+00:00', 'windSpeed': {'noaa': 5.57}}, {'cloudCover': {'noaa': 100.0}, 'humidity': {'noaa': 85.93}, 'pressure': {'noaa': 1003.42}, 'time': '2020-06-16T19:00:00+00:00', 'windSpeed': {'noaa': 5.23}}, {'cloudCover': {'noaa': 100.0}, 'humidity': {'noaa': 86.67}, 'pressure': {'noaa': 1003.09}, 'time': '2020-06-16T20:00:00+00:00', 'windSpeed': {'noaa': 4.89}}, {'cloudCover': {'noaa': 100.0}, 'humidity': {'noaa': 87.4}, 'pressure': {'noaa': 1002.76}, 'time': '2020-06-16T21:00:00+00:00', 'windSpeed': {'noaa': 4.55}}, {'cloudCover': {'noaa': 100.0}, 'humidity': {'noaa': 88.13}, 'pressure': {'noaa': 1001.99}, 'time': '2020-06-16T22:00:00+00:00', 'windSpeed': {'noaa': 4.21}}, {'cloudCover': {'noaa': 100.0}, 'humidity': {'noaa': 88.87}, 'pressure': {'noaa': 1001.21}, 'time': '2020-06-16T23:00:00+00:00', 'windSpeed': {'noaa': 3.86}}, {'cloudCover': {'noaa': 100.0}, 'humidity': {'noaa': 89.6}, 'pressure': {'noaa': 1000.43}, 'time': '2020-06-17T00:00:00+00:00', 'windSpeed': {'noaa': 3.52}}, {'cloudCover': {'noaa': 95.67}, 'humidity': {'noaa': 86.3}, 'pressure': {'noaa': 1001.02}, 'time': '2020-06-17T01:00:00+00:00', 'windSpeed': {'noaa': 3.77}}, {'cloudCover': {'noaa': 91.33}, 'humidity': {'noaa': 83.0}, 'pressure': {'noaa': 1001.62}, 'time': '2020-06-17T02:00:00+00:00', 'windSpeed': {'noaa': 4.03}}, {'cloudCover': {'noaa': 87.0}, 'humidity': {'noaa': 79.7}, 'pressure': {'noaa': 1002.22}, 'time': '2020-06-17T03:00:00+00:00', 'windSpeed': {'noaa': 4.28}}, {'cloudCover': {'noaa': 82.67}, 'humidity': {'noaa': 75.37}, 'pressure': {'noaa': 1002.04}, 'time': '2020-06-17T04:00:00+00:00', 'windSpeed': {'noaa': 4.26}}, {'cloudCover': {'noaa': 78.33}, 'humidity': {'noaa': 71.03}, 'pressure': {'noaa': 1001.87}, 'time': '2020-06-17T05:00:00+00:00', 'windSpeed': {'noaa': 4.25}}, {'cloudCover': {'noaa': 74.0}, 'humidity': {'noaa': 66.7}, 'pressure': {'noaa': 1001.7}, 'time': '2020-06-17T06:00:00+00:00', 'windSpeed': {'noaa': 4.23}}, {'cloudCover': {'noaa': 78.17}, 'humidity': {'noaa': 67.03}, 'pressure': {'noaa': 1001.25}, 'time': '2020-06-17T07:00:00+00:00', 'windSpeed': {'noaa': 4.89}}, {'cloudCover': {'noaa': 82.33}, 'humidity': {'noaa': 67.37}, 'pressure': {'noaa': 1000.79}, 'time': '2020-06-17T08:00:00+00:00', 'windSpeed': {'noaa': 5.56}}, {'cloudCover': {'noaa': 86.5}, 'humidity': {'noaa': 67.7}, 'pressure': {'noaa': 1000.33}, 'time': '2020-06-17T09:00:00+00:00', 'windSpeed': {'noaa': 6.22}}, {'cloudCover': {'noaa': 90.67}, 'humidity': {'noaa': 70.23}, 'pressure': {'noaa': 1000.31}, 'time': '2020-06-17T10:00:00+00:00', 'windSpeed': {'noaa': 6.48}}, {'cloudCover': {'noaa': 94.83}, 'humidity': {'noaa': 72.77}, 'pressure': {'noaa': 1000.28}, 'time': '2020-06-17T11:00:00+00:00', 'windSpeed': {'noaa': 6.73}}, {'cloudCover': {'noaa': 99.0}, 'humidity': {'noaa': 75.3}, 'pressure': {'noaa': 1000.26}, 'time': '2020-06-17T12:00:00+00:00', 'windSpeed': {'noaa': 6.99}}, {'cloudCover': {'noaa': 99.0}, 'humidity': {'noaa': 77.33}, 'pressure': {'noaa': 1000.98}, 'time': '2020-06-17T13:00:00+00:00', 'windSpeed': {'noaa': 6.16}}, {'cloudCover': {'noaa': 99.0}, 'humidity': {'noaa': 79.37}, 'pressure': {'noaa': 1001.69}, 'time': '2020-06-17T14:00:00+00:00', 'windSpeed': {'noaa': 5.32}}, {'cloudCover': {'noaa': 99.0}, 'humidity': {'noaa': 81.4}, 'pressure': {'noaa': 1002.41}, 'time': '2020-06-17T15:00:00+00:00', 'windSpeed': {'noaa': 4.49}}, {'cloudCover': {'noaa': 99.0}, 'humidity': {'noaa': 82.73}, 'pressure': {'noaa': 1002.78}, 'time': '2020-06-17T16:00:00+00:00', 'windSpeed': {'noaa': 3.98}}, {'cloudCover': {'noaa': 99.0}, 'humidity': {'noaa': 84.07}, 'pressure': {'noaa': 1003.16}, 'time': '2020-06-17T17:00:00+00:00', 'windSpeed': {'noaa': 3.46}}, {'cloudCover': {'noaa': 99.0}, 'humidity': {'noaa': 85.4}, 'pressure': {'noaa': 1003.53}, 'time': '2020-06-17T18:00:00+00:00', 'windSpeed': {'noaa': 2.95}}, {'cloudCover': {'noaa': 99.17}, 'humidity': {'noaa': 86.47}, 'pressure': {'noaa': 1003.11}, 'time': '2020-06-17T19:00:00+00:00', 'windSpeed': {'noaa': 3.73}}, {'cloudCover': {'noaa': 99.33}, 'humidity': {'noaa': 87.53}, 'pressure': {'noaa': 1002.68}, 'time': '2020-06-17T20:00:00+00:00', 'windSpeed': {'noaa': 4.51}}, {'cloudCover': {'noaa': 99.5}, 'humidity': {'noaa': 88.6}, 'pressure': {'noaa': 1002.26}, 'time': '2020-06-17T21:00:00+00:00', 'windSpeed': {'noaa': 5.29}}, {'cloudCover': {'noaa': 99.67}, 'humidity': {'noaa': 90.2}, 'pressure': {'noaa': 1002.2}, 'time': '2020-06-17T22:00:00+00:00', 'windSpeed': {'noaa': 4.61}}, {'cloudCover': {'noaa': 99.83}, 'humidity': {'noaa': 91.8}, 'pressure': {'noaa': 1002.14}, 'time': '2020-06-17T23:00:00+00:00', 'windSpeed': {'noaa': 3.92}}, {'cloudCover': {'noaa': 100.0}, 'humidity': {'noaa': 93.4}, 'pressure': {'noaa': 1002.09}, 'time': '2020-06-18T00:00:00+00:00', 'windSpeed': {'noaa': 3.24}}], 'meta': {'cost': 1, 'dailyQuota': 10, 'end': '2020-06-18 00:00', 'lat': 19.9975, 'lng': 73.7898, 'params': ['pressure', 'cloudCover', 'humidity', 'windSpeed'], 'requestCount': 10, 'source': ['noaa'], 'start': '2020-06-14 00:00'}}\n"
     ]
    }
   ],
   "source": [
    "print(json_data)"
   ]
  },
  {
   "cell_type": "code",
   "execution_count": 49,
   "id": "9ca4fd8a",
   "metadata": {},
   "outputs": [],
   "source": [
    "import json\n",
    "with open('plant2datav4.json', 'w', encoding='utf-8') as f:\n",
    "    json.dump(json_data, f, ensure_ascii=False, indent=4)"
   ]
  },
  {
   "cell_type": "code",
   "execution_count": 50,
   "id": "5ae28410",
   "metadata": {},
   "outputs": [
    {
     "name": "stdout",
     "output_type": "stream",
     "text": [
      "{'cloudCover': ({'noaa': 100.0}, {'noaa': 100.0}, {'noaa': 100.0}, {'noaa': 100.0}, {'noaa': 100.0}, {'noaa': 100.0}, {'noaa': 100.0}, {'noaa': 99.0}, {'noaa': 98.0}, {'noaa': 97.0}, {'noaa': 96.0}, {'noaa': 95.0}, {'noaa': 94.0}, {'noaa': 95.0}, {'noaa': 96.0}, {'noaa': 97.0}, {'noaa': 98.0}, {'noaa': 99.0}, {'noaa': 100.0}, {'noaa': 100.0}, {'noaa': 100.0}, {'noaa': 100.0}, {'noaa': 100.0}, {'noaa': 100.0}, {'noaa': 100.0}, {'noaa': 100.0}, {'noaa': 100.0}, {'noaa': 100.0}, {'noaa': 100.0}, {'noaa': 100.0}, {'noaa': 100.0}, {'noaa': 100.0}, {'noaa': 100.0}, {'noaa': 100.0}, {'noaa': 100.0}, {'noaa': 100.0}, {'noaa': 100.0}, {'noaa': 100.0}, {'noaa': 100.0}, {'noaa': 100.0}, {'noaa': 100.0}, {'noaa': 100.0}, {'noaa': 100.0}, {'noaa': 100.0}, {'noaa': 100.0}, {'noaa': 100.0}, {'noaa': 100.0}, {'noaa': 100.0}, {'noaa': 100.0}, {'noaa': 92.5}, {'noaa': 85.0}, {'noaa': 77.5}, {'noaa': 70.0}, {'noaa': 62.5}, {'noaa': 55.0}, {'noaa': 61.67}, {'noaa': 68.33}, {'noaa': 75.0}, {'noaa': 81.67}, {'noaa': 88.33}, {'noaa': 95.0}, {'noaa': 95.83}, {'noaa': 96.67}, {'noaa': 97.5}, {'noaa': 98.33}, {'noaa': 99.17}, {'noaa': 100.0}, {'noaa': 100.0}, {'noaa': 100.0}, {'noaa': 100.0}, {'noaa': 100.0}, {'noaa': 100.0}, {'noaa': 100.0}, {'noaa': 95.67}, {'noaa': 91.33}, {'noaa': 87.0}, {'noaa': 82.67}, {'noaa': 78.33}, {'noaa': 74.0}, {'noaa': 78.17}, {'noaa': 82.33}, {'noaa': 86.5}, {'noaa': 90.67}, {'noaa': 94.83}, {'noaa': 99.0}, {'noaa': 99.0}, {'noaa': 99.0}, {'noaa': 99.0}, {'noaa': 99.0}, {'noaa': 99.0}, {'noaa': 99.0}, {'noaa': 99.17}, {'noaa': 99.33}, {'noaa': 99.5}, {'noaa': 99.67}, {'noaa': 99.83}, {'noaa': 100.0}), 'humidity': ({'noaa': 88.6}, {'noaa': 87.83}, {'noaa': 87.07}, {'noaa': 86.3}, {'noaa': 84.33}, {'noaa': 82.37}, {'noaa': 80.4}, {'noaa': 78.17}, {'noaa': 75.93}, {'noaa': 73.7}, {'noaa': 72.73}, {'noaa': 71.77}, {'noaa': 70.8}, {'noaa': 73.8}, {'noaa': 76.8}, {'noaa': 79.8}, {'noaa': 81.93}, {'noaa': 84.07}, {'noaa': 86.2}, {'noaa': 86.6}, {'noaa': 87.0}, {'noaa': 87.4}, {'noaa': 87.47}, {'noaa': 87.53}, {'noaa': 87.6}, {'noaa': 85.63}, {'noaa': 83.67}, {'noaa': 81.7}, {'noaa': 80.73}, {'noaa': 79.77}, {'noaa': 78.8}, {'noaa': 78.43}, {'noaa': 78.07}, {'noaa': 77.7}, {'noaa': 79.33}, {'noaa': 80.97}, {'noaa': 82.6}, {'noaa': 84.37}, {'noaa': 86.13}, {'noaa': 87.9}, {'noaa': 87.77}, {'noaa': 87.63}, {'noaa': 87.5}, {'noaa': 87.7}, {'noaa': 87.9}, {'noaa': 88.1}, {'noaa': 87.87}, {'noaa': 87.63}, {'noaa': 87.4}, {'noaa': 83.97}, {'noaa': 80.53}, {'noaa': 77.1}, {'noaa': 71.83}, {'noaa': 66.57}, {'noaa': 61.3}, {'noaa': 62.63}, {'noaa': 63.97}, {'noaa': 65.3}, {'noaa': 68.23}, {'noaa': 71.17}, {'noaa': 74.1}, {'noaa': 77.23}, {'noaa': 80.37}, {'noaa': 83.5}, {'noaa': 84.07}, {'noaa': 84.63}, {'noaa': 85.2}, {'noaa': 85.93}, {'noaa': 86.67}, {'noaa': 87.4}, {'noaa': 88.13}, {'noaa': 88.87}, {'noaa': 89.6}, {'noaa': 86.3}, {'noaa': 83.0}, {'noaa': 79.7}, {'noaa': 75.37}, {'noaa': 71.03}, {'noaa': 66.7}, {'noaa': 67.03}, {'noaa': 67.37}, {'noaa': 67.7}, {'noaa': 70.23}, {'noaa': 72.77}, {'noaa': 75.3}, {'noaa': 77.33}, {'noaa': 79.37}, {'noaa': 81.4}, {'noaa': 82.73}, {'noaa': 84.07}, {'noaa': 85.4}, {'noaa': 86.47}, {'noaa': 87.53}, {'noaa': 88.6}, {'noaa': 90.2}, {'noaa': 91.8}, {'noaa': 93.4}), 'pressure': ({'noaa': 1002.22}, {'noaa': 1002.81}, {'noaa': 1003.39}, {'noaa': 1003.98}, {'noaa': 1004.02}, {'noaa': 1004.07}, {'noaa': 1004.11}, {'noaa': 1003.32}, {'noaa': 1002.54}, {'noaa': 1001.76}, {'noaa': 1001.39}, {'noaa': 1001.02}, {'noaa': 1000.65}, {'noaa': 1001.52}, {'noaa': 1002.39}, {'noaa': 1003.26}, {'noaa': 1003.45}, {'noaa': 1003.64}, {'noaa': 1003.82}, {'noaa': 1003.25}, {'noaa': 1002.67}, {'noaa': 1002.09}, {'noaa': 1001.88}, {'noaa': 1001.66}, {'noaa': 1001.44}, {'noaa': 1002.17}, {'noaa': 1002.9}, {'noaa': 1003.63}, {'noaa': 1003.78}, {'noaa': 1003.93}, {'noaa': 1004.08}, {'noaa': 1003.4}, {'noaa': 1002.73}, {'noaa': 1002.05}, {'noaa': 1001.64}, {'noaa': 1001.22}, {'noaa': 1000.8}, {'noaa': 1001.61}, {'noaa': 1002.43}, {'noaa': 1003.25}, {'noaa': 1003.27}, {'noaa': 1003.29}, {'noaa': 1003.31}, {'noaa': 1002.69}, {'noaa': 1002.07}, {'noaa': 1001.45}, {'noaa': 1001.37}, {'noaa': 1001.3}, {'noaa': 1001.22}, {'noaa': 1001.89}, {'noaa': 1002.55}, {'noaa': 1003.22}, {'noaa': 1003.34}, {'noaa': 1003.45}, {'noaa': 1003.57}, {'noaa': 1002.86}, {'noaa': 1002.15}, {'noaa': 1001.43}, {'noaa': 1001.28}, {'noaa': 1001.12}, {'noaa': 1000.96}, {'noaa': 1001.71}, {'noaa': 1002.47}, {'noaa': 1003.22}, {'noaa': 1003.4}, {'noaa': 1003.57}, {'noaa': 1003.75}, {'noaa': 1003.42}, {'noaa': 1003.09}, {'noaa': 1002.76}, {'noaa': 1001.99}, {'noaa': 1001.21}, {'noaa': 1000.43}, {'noaa': 1001.02}, {'noaa': 1001.62}, {'noaa': 1002.22}, {'noaa': 1002.04}, {'noaa': 1001.87}, {'noaa': 1001.7}, {'noaa': 1001.25}, {'noaa': 1000.79}, {'noaa': 1000.33}, {'noaa': 1000.31}, {'noaa': 1000.28}, {'noaa': 1000.26}, {'noaa': 1000.98}, {'noaa': 1001.69}, {'noaa': 1002.41}, {'noaa': 1002.78}, {'noaa': 1003.16}, {'noaa': 1003.53}, {'noaa': 1003.11}, {'noaa': 1002.68}, {'noaa': 1002.26}, {'noaa': 1002.2}, {'noaa': 1002.14}, {'noaa': 1002.09}), 'windSpeed': ({'noaa': 3.43}, {'noaa': 3.3}, {'noaa': 3.17}, {'noaa': 3.04}, {'noaa': 3.08}, {'noaa': 3.11}, {'noaa': 3.15}, {'noaa': 3.11}, {'noaa': 3.06}, {'noaa': 3.02}, {'noaa': 3.09}, {'noaa': 3.16}, {'noaa': 3.23}, {'noaa': 3.43}, {'noaa': 3.62}, {'noaa': 3.82}, {'noaa': 4.43}, {'noaa': 5.05}, {'noaa': 5.66}, {'noaa': 5.43}, {'noaa': 5.2}, {'noaa': 4.97}, {'noaa': 4.84}, {'noaa': 4.71}, {'noaa': 4.58}, {'noaa': 4.87}, {'noaa': 5.17}, {'noaa': 5.46}, {'noaa': 5.43}, {'noaa': 5.39}, {'noaa': 5.36}, {'noaa': 5.38}, {'noaa': 5.4}, {'noaa': 5.42}, {'noaa': 5.66}, {'noaa': 5.91}, {'noaa': 6.15}, {'noaa': 5.85}, {'noaa': 5.55}, {'noaa': 5.25}, {'noaa': 4.6}, {'noaa': 3.96}, {'noaa': 3.31}, {'noaa': 2.88}, {'noaa': 2.46}, {'noaa': 2.03}, {'noaa': 2.78}, {'noaa': 3.52}, {'noaa': 4.27}, {'noaa': 4.26}, {'noaa': 4.25}, {'noaa': 4.24}, {'noaa': 4.17}, {'noaa': 4.11}, {'noaa': 4.04}, {'noaa': 4.88}, {'noaa': 5.71}, {'noaa': 6.55}, {'noaa': 6.81}, {'noaa': 7.06}, {'noaa': 7.32}, {'noaa': 7.25}, {'noaa': 7.17}, {'noaa': 7.1}, {'noaa': 6.59}, {'noaa': 6.08}, {'noaa': 5.57}, {'noaa': 5.23}, {'noaa': 4.89}, {'noaa': 4.55}, {'noaa': 4.21}, {'noaa': 3.86}, {'noaa': 3.52}, {'noaa': 3.77}, {'noaa': 4.03}, {'noaa': 4.28}, {'noaa': 4.26}, {'noaa': 4.25}, {'noaa': 4.23}, {'noaa': 4.89}, {'noaa': 5.56}, {'noaa': 6.22}, {'noaa': 6.48}, {'noaa': 6.73}, {'noaa': 6.99}, {'noaa': 6.16}, {'noaa': 5.32}, {'noaa': 4.49}, {'noaa': 3.98}, {'noaa': 3.46}, {'noaa': 2.95}, {'noaa': 3.73}, {'noaa': 4.51}, {'noaa': 5.29}, {'noaa': 4.61}, {'noaa': 3.92}, {'noaa': 3.24})}\n"
     ]
    }
   ],
   "source": [
    "import pandas as pd\n",
    "import openpyxl\n",
    "\n",
    "data = json.load(open('plant2datav4.json'))\n",
    "new_dict = {}\n",
    "for item in data['hours']:\n",
    "    time = item.pop('time')\n",
    "    new_dict[time] = item\n",
    "{k:dict([next(iter(v.items()))]) for k, v in new_dict.items()}\n",
    "\n",
    "# Cleaning json data \n",
    "values = list(new_dict.values())\n",
    "d = {}\n",
    "for k in values[0].keys():\n",
    "    d[k] = tuple(d[k] for d in values)\n",
    "print(d)\n",
    "\n",
    "df = pd.DataFrame(d)\n",
    "df.to_excel('plant2datav4.xlsx')"
   ]
  },
  {
   "cell_type": "code",
   "execution_count": 79,
   "id": "5163d490",
   "metadata": {},
   "outputs": [],
   "source": [
    "import torch\n",
    "from torch import nn\n",
    "import torch.utils.data as data_utils\n",
    "import torch.nn.functional as F\n",
    "import pandas as pd\n",
    "import matplotlib.pyplot as plt\n",
    "import numpy as np\n",
    "torch.set_printoptions(sci_mode=False)"
   ]
  },
  {
   "cell_type": "code",
   "execution_count": 226,
   "id": "3e2d26bc",
   "metadata": {
    "scrolled": true
   },
   "outputs": [
    {
     "name": "stdout",
     "output_type": "stream",
     "text": [
      "tensor([[  25.1843,   22.8575,   48.0000,   41.7000, 1005.6400,    2.4800],\n",
      "        [  25.0846,   22.7617,   48.0000,   41.7000, 1005.6400,    2.4800],\n",
      "        [  24.9358,   22.5923,   48.0000,   41.7000, 1005.6400,    2.4800],\n",
      "        ...,\n",
      "        [  23.3547,   22.4922,   99.8300,   91.8000, 1002.1400,    3.9200],\n",
      "        [  23.2910,   22.3739,   99.8300,   91.8000, 1002.1400,    3.9200],\n",
      "        [  23.2029,   22.5359,   99.8300,   91.8000, 1002.1400,    3.9200]],\n",
      "       dtype=torch.float64)\n",
      "tensor([[0.0250, 0.0227, 0.0476, 0.0414, 0.9974, 0.0025],\n",
      "        [0.0249, 0.0226, 0.0476, 0.0414, 0.9974, 0.0025],\n",
      "        [0.0247, 0.0224, 0.0476, 0.0414, 0.9974, 0.0025],\n",
      "        ...,\n",
      "        [0.0231, 0.0222, 0.0987, 0.0907, 0.9905, 0.0039],\n",
      "        [0.0230, 0.0221, 0.0987, 0.0907, 0.9905, 0.0039],\n",
      "        [0.0229, 0.0223, 0.0987, 0.0907, 0.9905, 0.0039]], dtype=torch.float64)\n",
      "tensor([0., 0., 0.,  ..., 0., 0., 0.], dtype=torch.float64)\n"
     ]
    }
   ],
   "source": [
    "#Creating tensors of input and output data (and normalizing)\n",
    "data = pd.read_csv('data.csv')\n",
    "input_tensor = torch.tensor(data.iloc[:,6:12].values)\n",
    "print(input_tensor)\n",
    "input_tensor = F.normalize(input_tensor, dim=-1)\n",
    "print(input_tensor)\n",
    "output_tensor = torch.tensor(data.iloc[:,5].values)\n",
    "output_tensor = F.normalize(output_tensor, dim=-1)\n",
    "print(output_tensor)\n",
    "\n",
    "#Load data\n",
    "train_input, test_input = torch.split(input_tensor,5716)\n",
    "train_output, test_output = torch.split(output_tensor,5716)\n",
    "train_tensor = data_utils.TensorDataset(train_input, train_output)\n",
    "train_loader = data_utils.DataLoader(train_tensor, batch_size = batch_size, shuffle=True)\n",
    "test_tensor = data_utils.TensorDataset(test_input, test_output)\n",
    "test_loader = data_utils.DataLoader(test_tensor, batch_size=batch_size, shuffle=False)"
   ]
  },
  {
   "cell_type": "code",
   "execution_count": 245,
   "id": "d5d58fc6",
   "metadata": {},
   "outputs": [],
   "source": [
    "#Neural network parameters\n",
    "input_size = 6\n",
    "hidden_size = 100\n",
    "output_size = 1\n",
    "num_epochs = 10\n",
    "batch_size = 100\n",
    "learning_rate = 0.01\n",
    "device = 'cpu'"
   ]
  },
  {
   "cell_type": "code",
   "execution_count": 233,
   "id": "d12f9c03",
   "metadata": {},
   "outputs": [],
   "source": [
    "class neural_network(nn.Module):\n",
    "    def __init__(self, input_size, hidden_size, output_size):\n",
    "        super(neural_network, self).__init__()\n",
    "        self.gen = nn.Sequential(\n",
    "            self.create_gen_block(input_size, hidden_size),\n",
    "            #self.create_gen_block(hidden_size, hidden_size*3),\n",
    "            #self.create_gen_block(hidden_size*3, hidden_size*5),\n",
    "            #self.create_gen_block(hidden_size*5, hidden_size),\n",
    "            nn.Linear(hidden_size, output_size)\n",
    "        )\n",
    "        \n",
    "    def create_gen_block(self, input_size, output_size):\n",
    "       \n",
    "        return nn.Sequential(\n",
    "            nn.Linear(input_size, output_size),\n",
    "            nn.BatchNorm1d(output_size),\n",
    "            nn.ReLU(inplace=True)\n",
    "        )\n",
    "    \n",
    "    def forward(self, parameters):\n",
    "        return self.gen(parameters)\n",
    "\n",
    "model = neural_network(input_size, hidden_size, output_size).to(device)\n",
    "    \n",
    "criterion = nn.MSELoss()\n",
    "optimizer = torch.optim.Adam(model.parameters(), lr=learning_rate) \n",
    "\n",
    "n_total_steps = len(train_loader)"
   ]
  },
  {
   "cell_type": "code",
   "execution_count": 251,
   "id": "03ab05b6",
   "metadata": {},
   "outputs": [
    {
     "name": "stdout",
     "output_type": "stream",
     "text": [
      "Epoch [1/10], Step[6/58], Loss: 0.0108\n",
      "Epoch [2/10], Step[6/58], Loss: 0.0112\n",
      "Epoch [3/10], Step[6/58], Loss: 0.0114\n",
      "Epoch [4/10], Step[6/58], Loss: 0.0098\n",
      "Epoch [5/10], Step[6/58], Loss: 0.0096\n",
      "Epoch [6/10], Step[6/58], Loss: 0.0094\n",
      "Epoch [7/10], Step[6/58], Loss: 0.0102\n",
      "Epoch [8/10], Step[6/58], Loss: 0.0108\n",
      "Epoch [9/10], Step[6/58], Loss: 0.0099\n",
      "Epoch [10/10], Step[6/58], Loss: 0.0114\n"
     ]
    }
   ],
   "source": [
    "#Training\n",
    "for epoch in range(num_epochs):\n",
    "    for i, (parameters, power) in enumerate(train_loader):\n",
    "        parameters = parameters.to(device)\n",
    "        power = power.to(device)\n",
    "        outputs = model.double()(parameters)\n",
    "        loss = torch.sqrt(criterion(outputs, power))\n",
    "        optimizer.zero_grad()\n",
    "        loss.backward()\n",
    "        optimizer.step()\n",
    "        if i == 5:\n",
    "            print (f'Epoch [{epoch+1}/{num_epochs}], Step[{i+1}/{n_total_steps}], Loss: {loss.item():.4f}') \n",
    "        \n",
    "    "
   ]
  },
  {
   "cell_type": "code",
   "execution_count": 252,
   "id": "f0548f9e",
   "metadata": {},
   "outputs": [
    {
     "name": "stdout",
     "output_type": "stream",
     "text": [
      "Guesses: tensor([0.0107], dtype=torch.float64), Actual: 0.0019443242740559107\n",
      "Guesses: tensor([0.0107], dtype=torch.float64), Actual: 0.0015243657572676607\n",
      "Guesses: tensor([0.0107], dtype=torch.float64), Actual: 0.0\n",
      "Guesses: tensor([0.0107], dtype=torch.float64), Actual: 0.0\n",
      "Guesses: tensor([0.0107], dtype=torch.float64), Actual: 0.0\n",
      "Guesses: tensor([0.0107], dtype=torch.float64), Actual: 0.0\n",
      "Guesses: tensor([0.0107], dtype=torch.float64), Actual: 0.0\n"
     ]
    }
   ],
   "source": [
    "#Testing\n",
    "with torch.no_grad():\n",
    "    for parameters, power in test_loader:\n",
    "        parameters = parameters.to(device)\n",
    "        power = power.to(device)\n",
    "        outputs = model.double()(parameters)\n",
    "        print(f'Guesses: {outputs[0]}, Actual: {power[0]}')\n",
    "    "
   ]
  },
  {
   "cell_type": "code",
   "execution_count": 249,
   "id": "07444a93",
   "metadata": {},
   "outputs": [
    {
     "data": {
      "text/plain": [
       "<matplotlib.collections.PathCollection at 0x2a65d436610>"
      ]
     },
     "execution_count": 249,
     "metadata": {},
     "output_type": "execute_result"
    },
    {
     "data": {
      "image/png": "[encoded data removed]",
      "text/plain": [
       "<Figure size 432x288 with 1 Axes>"
      ]
     },
     "metadata": {
      "needs_background": "light"
     },
     "output_type": "display_data"
    }
   ],
   "source": [
    "plt.scatter(outputs, power)"
   ]
  }
 ],
 "metadata": {
  "kernelspec": {
   "display_name": "Python 3",
   "language": "python",
   "name": "python3"
  },
  "language_info": {
   "codemirror_mode": {
    "name": "ipython",
    "version": 3
   },
   "file_extension": ".py",
   "mimetype": "text/x-python",
   "name": "python",
   "nbconvert_exporter": "python",
   "pygments_lexer": "ipython3",
   "version": "3.8.10"
  }
 },
 "nbformat": 4,
 "nbformat_minor": 5
}
